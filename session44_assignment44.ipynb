{
 "cells": [
  {
   "cell_type": "markdown",
   "metadata": {},
   "source": [
    "Task 1 \n",
    "\n",
    "\n",
    "A Fibonacci series (starting from 1) written in order without any spaces in between, thus producing a sequence of digits. Write a Scala(/Python) application to find the Nth digit in the sequence. \n",
    "\n",
    "○ Write the function using standard for loop \n",
    "\n",
    "○ Write the function using recursion "
   ]
  },
  {
   "cell_type": "code",
   "execution_count": 1,
   "metadata": {},
   "outputs": [
    {
     "name": "stdout",
     "output_type": "stream",
     "text": [
      "How many terms? 15\n",
      "Fibonacci sequence upto 15 :\n",
      "01123581321345589144233377"
     ]
    }
   ],
   "source": [
    "# Program to display the Fibonacci sequence up to n-th term where n is provided by the user\n",
    "\n",
    "nterms = int(input(\"How many terms? \"))\n",
    "\n",
    "# first two terms\n",
    "n1 = 0\n",
    "n2 = 1\n",
    "count = 0\n",
    "\n",
    "# check if the number of terms is valid\n",
    "if nterms <= 0:\n",
    "   print(\"Please enter a positive integer\")\n",
    "elif nterms == 1:\n",
    "   print(\"Fibonacci sequence upto\",nterms,\":\")\n",
    "   print(n1)\n",
    "else:\n",
    "   print(\"Fibonacci sequence upto\",nterms,\":\")\n",
    "   while count < nterms:\n",
    "       print(n1,end='')\n",
    "       nth = n1 + n2\n",
    "       # update values\n",
    "       n1 = n2\n",
    "       n2 = nth\n",
    "       count += 1"
   ]
  },
  {
   "cell_type": "code",
   "execution_count": 2,
   "metadata": {},
   "outputs": [],
   "source": [
    "\n",
    "# func using standard 'for loop'\n",
    "\n",
    "def fibonacci(n):\n",
    "    a= 1\n",
    "    b= 1\n",
    "    if(n==1 or n==2):\n",
    "        return 1\n",
    "    else:\n",
    "        for i in range(3,n+1):\n",
    "            curr= b+ a\n",
    "            a= b\n",
    "            b= curr\n",
    "        return curr"
   ]
  },
  {
   "cell_type": "code",
   "execution_count": 3,
   "metadata": {},
   "outputs": [
    {
     "name": "stdout",
     "output_type": "stream",
     "text": [
      "your choice:12\n",
      "12th fiboncci number is :144\n"
     ]
    }
   ],
   "source": [
    "n=int(input('your choice:') )\n",
    "number= fibonacci(n)  \n",
    "print(f'{n}th fiboncci number is :{number}')"
   ]
  },
  {
   "cell_type": "code",
   "execution_count": 4,
   "metadata": {},
   "outputs": [],
   "source": [
    "\n",
    "# Write the function using recursion\n",
    "def nth_fibonacci_digit(n):\n",
    "    if(n==1 or n==2):\n",
    "        return 1\n",
    "    else:\n",
    "        return nth_fibonacci_digit(n-1)+ nth_fibonacci_digit(n-2)"
   ]
  },
  {
   "cell_type": "code",
   "execution_count": 5,
   "metadata": {},
   "outputs": [
    {
     "name": "stdout",
     "output_type": "stream",
     "text": [
      "your choice:12\n",
      "12th fiboncci number is :144\n"
     ]
    }
   ],
   "source": [
    "n1=int(input('your choice:') )  \n",
    "number1= nth_fibonacci_digit(n)  \n",
    "print(f'{n1}th fiboncci number is :{number1}')"
   ]
  },
  {
   "cell_type": "markdown",
   "metadata": {},
   "source": [
    "Task 2 \n",
    "Create a calculator to work with rational numbers. Requirements: \n",
    "\n",
    "○ It should provide capability to add, subtract, divide and multiply rational numbers \n",
    "\n",
    "○ Create a method to compute GCD (this will come in handy during operations on rational) \n",
    "    Add option to work with whole numbers which are also rational numbers i.e. (n/1) - achieve the above using auxiliary constructors - enable method overloading to enable each function to work with numbers and rational. "
   ]
  },
  {
   "cell_type": "code",
   "execution_count": 6,
   "metadata": {},
   "outputs": [],
   "source": [
    "\n",
    "def calculator(op1,op2,opr):\n",
    "    value=0.00\n",
    "    if(opr==1):\n",
    "        value= op1+ op2\n",
    "    elif(opr==2):       \n",
    "        value= op1- op2\n",
    "    elif(opr==3):        \n",
    "        value= op1/ op2\n",
    "    elif(opr==4):        \n",
    "        value= op1* op2\n",
    "    elif(opr==5):        \n",
    "        smallest= op2 if(op1> op2) else op1\n",
    "        while(smallest>=1):\n",
    "            if(op1% smallest==0 and op2% smallest==0):\n",
    "                print(\"GCD of {} and {} is {}\".format(op1,op2,smallest))\n",
    "                break\n",
    "            smallest=smallest-1   \n",
    "    else:\n",
    "        print(\"Invalid choice entered\")\n",
    "        return    \n",
    "    return value"
   ]
  },
  {
   "cell_type": "code",
   "execution_count": 7,
   "metadata": {},
   "outputs": [
    {
     "name": "stdout",
     "output_type": "stream",
     "text": [
      "Enter the choice.\n",
      " 1.Addition\n",
      " 2.Substraction\n",
      " 3.Division\n",
      " 4.Multiplication\n",
      " 5.GCD\n",
      "3\n",
      " Enter the first number 30\n",
      " Enter the second number 5\n"
     ]
    },
    {
     "data": {
      "text/plain": [
       "6.0"
      ]
     },
     "execution_count": 7,
     "metadata": {},
     "output_type": "execute_result"
    }
   ],
   "source": [
    "print(\"Enter the choice.\\n 1.Addition\\n 2.Substraction\\n 3.Division\\n 4.Multiplication\\n 5.GCD\")\n",
    "choice= int(input())\n",
    "number1= int(input(\" Enter the first number \"))\n",
    "number2= int(input(\" Enter the second number \"))\n",
    "calculator(number1,number2,choice)"
   ]
  },
  {
   "cell_type": "code",
   "execution_count": 8,
   "metadata": {},
   "outputs": [
    {
     "data": {
      "text/plain": [
       "'\\nTask 3:-\\n1.Write a simple program to show inheritance in python.\\n2.Write a simple program to show multiple inheritance in python.\\n'"
      ]
     },
     "execution_count": 8,
     "metadata": {},
     "output_type": "execute_result"
    }
   ],
   "source": [
    "'''\n",
    "Task 3:-\n",
    "1.Write a simple program to show inheritance in python.\n",
    "2.Write a simple program to show multiple inheritance in python.\n",
    "'''"
   ]
  },
  {
   "cell_type": "code",
   "execution_count": 9,
   "metadata": {},
   "outputs": [],
   "source": [
    "# simple program to show inheritance in python\n",
    "class Polygon:\n",
    "    def __init__(self, no_of_sides):\n",
    "        self.n = no_of_sides\n",
    "        self.sides = [0 for i in range(no_of_sides)]\n",
    "\n",
    "    def inputSides(self):\n",
    "        self.sides = [float(input(\"Enter side \"+str(i+1)+\" : \")) for i in range(self.n)]\n",
    "\n",
    "    def dispSides(self):\n",
    "        for i in range(self.n):\n",
    "            print(\"Side\",i+1,\"is\",self.sides[i])\n",
    "            \n",
    "class Triangle(Polygon):\n",
    "    def __init__(self):\n",
    "        Polygon.__init__(self,3)\n",
    "\n",
    "    def findArea(self):\n",
    "        a, b, c = self.sides\n",
    "        # calculate the semi-perimeter\n",
    "        s = (a + b + c) / 2\n",
    "        area = (s*(s-a)*(s-b)*(s-c)) ** 0.5\n",
    "        print('The area of the triangle is %0.2f' %area)"
   ]
  },
  {
   "cell_type": "code",
   "execution_count": 10,
   "metadata": {},
   "outputs": [
    {
     "name": "stdout",
     "output_type": "stream",
     "text": [
      "Enter side 1 : 12\n",
      "Enter side 2 : 5\n",
      "Enter side 3 : 13\n",
      "Side 1 is 12.0\n",
      "Side 2 is 5.0\n",
      "Side 3 is 13.0\n",
      "The area of the triangle is 30.00\n"
     ]
    }
   ],
   "source": [
    "t = Triangle()\n",
    "t.inputSides()\n",
    "t.dispSides()\n",
    "t.findArea()"
   ]
  },
  {
   "cell_type": "code",
   "execution_count": 11,
   "metadata": {},
   "outputs": [
    {
     "name": "stdout",
     "output_type": "stream",
     "text": [
      "Geek1 23 Noida\n"
     ]
    }
   ],
   "source": [
    "# simple program to show multiple inheritance in python\n",
    "class Base(object): \n",
    "      \n",
    "    # Constructor \n",
    "    def __init__(self, name): \n",
    "        self.name = name \n",
    "  \n",
    "    # To get name \n",
    "    def getName(self): \n",
    "        return self.name \n",
    "  \n",
    "  \n",
    "# Inherited or Sub class (Note Person in bracket) \n",
    "class Child(Base): \n",
    "      \n",
    "    # Constructor \n",
    "    def __init__(self, name, age): \n",
    "        Base.__init__(self, name) \n",
    "        self.age = age \n",
    "  \n",
    "    # To get name \n",
    "    def getAge(self): \n",
    "        return self.age \n",
    "  \n",
    "\n",
    "\n",
    "class GrandChild(Child): \n",
    "      \n",
    "    # Constructor \n",
    "    def __init__(self, name, age, address): \n",
    "        Child.__init__(self, name, age) \n",
    "        self.address = address \n",
    "  \n",
    "    # To get address \n",
    "    def getAddress(self): \n",
    "        return self.address         \n",
    "  \n",
    " \n",
    "g = GrandChild(\"Geek1\", 23, \"Noida\")   \n",
    "print(g.getName(), g.getAge(), g.getAddress())\n"
   ]
  },
  {
   "cell_type": "markdown",
   "metadata": {},
   "source": [
    "'''\n",
    "Task 4:-\n",
    "Write a partial function to add three numbers in which one number is constant and two\n",
    "numbers can be passed as inputs and define another method which can take the partial\n",
    "function as input and squares the result.\n",
    "'''"
   ]
  },
  {
   "cell_type": "code",
   "execution_count": 12,
   "metadata": {},
   "outputs": [
    {
     "name": "stdout",
     "output_type": "stream",
     "text": [
      "12\n",
      "2\n",
      "The value of the sum is :256\n"
     ]
    }
   ],
   "source": [
    "\n",
    "from functools import *\n",
    "  \n",
    "# A normal function \n",
    "def add(a, b, c): \n",
    "    return a+ b+ c \n",
    "  \n",
    "# A partial function with c = 1 \n",
    "add_part = partial(add, c = 2) \n",
    "  \n",
    "# Calling partial function \n",
    "def square(x=add_part( int(input()), int(input())) ):\n",
    "    print(\"The value of the sum is :{}\".format(x*x))\n",
    "\n",
    "square()"
   ]
  },
  {
   "cell_type": "markdown",
   "metadata": {},
   "source": [
    "'''\n",
    "Task 5:-\n",
    "Write a program to print the prices of 4 courses of Acadgild: Android-12999,Big Data\n",
    "Development-17999,Big Data Development-17999,Spark-19999 using match and add a\n",
    "default condition if the user enters any other course\n",
    "'''"
   ]
  },
  {
   "cell_type": "code",
   "execution_count": null,
   "metadata": {},
   "outputs": [],
   "source": [
    "import re\n",
    "txt = 'Android-12999, Big Data Development-17999, Big Data Development-17999, Spark-19999,'\n",
    "\n",
    "print(txt)\n",
    "\n",
    "search= input(\" Enter the course name \")\n",
    "x = re.findall(r\"{}-[0-9]*,\".format(search),txt)\n",
    "for val in x:\n",
    "    print(x)"
   ]
  },
  {
   "cell_type": "code",
   "execution_count": null,
   "metadata": {},
   "outputs": [],
   "source": [
    "'end of assignment'"
   ]
  },
  {
   "cell_type": "code",
   "execution_count": null,
   "metadata": {},
   "outputs": [],
   "source": []
  }
 ],
 "metadata": {
  "kernelspec": {
   "display_name": "Python 3",
   "language": "python",
   "name": "python3"
  },
  "language_info": {
   "codemirror_mode": {
    "name": "ipython",
    "version": 3
   },
   "file_extension": ".py",
   "mimetype": "text/x-python",
   "name": "python",
   "nbconvert_exporter": "python",
   "pygments_lexer": "ipython3",
   "version": "3.6.8"
  }
 },
 "nbformat": 4,
 "nbformat_minor": 2
}
